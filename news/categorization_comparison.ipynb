{
 "cells": [
  {
   "cell_type": "code",
   "execution_count": 33,
   "metadata": {
    "ExecuteTime": {
     "end_time": "2016-12-17T22:32:08.182796",
     "start_time": "2016-12-17T22:32:08.016376"
    },
    "collapsed": false
   },
   "outputs": [],
   "source": [
    "\n",
    "from sklearn.feature_extraction.text import CountVectorizer\n",
    "from sklearn.feature_extraction.text import TfidfVectorizer\n",
    "from sklearn.naive_bayes import BernoulliNB, MultinomialNB\n",
    "from sklearn.ensemble import RandomForestClassifier\n",
    "from sklearn.pipeline import Pipeline\n",
    "from sklearn.svm import SVC\n",
    "from nltk.corpus import stopwords as sw\n",
    "from sklearn.metrics import accuracy_score\n",
    "from sklearn.cross_validation import cross_val_score\n",
    "from pandas import DataFrame\n",
    "\n",
    "stopwords = sw.words('german')"
   ]
  },
  {
   "cell_type": "code",
   "execution_count": 34,
   "metadata": {
    "ExecuteTime": {
     "end_time": "2016-12-17T22:32:08.509839",
     "start_time": "2016-12-17T22:32:08.496679"
    },
    "collapsed": true
   },
   "outputs": [],
   "source": [
    "category_names = ['Sonstiges', 'Aktuell', 'Lifestyle', \n",
    "          'Wirtschaft', 'Finanzen', 'Ausland', 'Lokal', \n",
    "          'Politik', 'Sport', 'Technologie', 'Kultur']\n",
    "\n",
    "num_models = len(category_names)\n",
    "\n",
    "# the list of split corpora\n",
    "train_paths = [(x, \"data/corpus{}.training.txt\".format(x)) for x in category_names]\n",
    "validation_paths = [(x, \"data/corpus{}.validation.txt\".format(x)) for x in category_names]"
   ]
  },
  {
   "cell_type": "code",
   "execution_count": 35,
   "metadata": {
    "ExecuteTime": {
     "end_time": "2016-12-17T22:32:09.198371",
     "start_time": "2016-12-17T22:32:09.181649"
    },
    "collapsed": true
   },
   "outputs": [],
   "source": [
    "def load_sets(paths):\n",
    "    X, y = [], []\n",
    "\n",
    "    for name, path in paths:\n",
    "        with open(path) as cur_file:\n",
    "            for line in cur_file:\n",
    "                tokens = [x for x in line.split() if x not in stopwords]\n",
    "                X.append(tokens)\n",
    "                y.append(name)\n",
    "    return X, y"
   ]
  },
  {
   "cell_type": "code",
   "execution_count": 36,
   "metadata": {
    "ExecuteTime": {
     "end_time": "2016-12-17T22:34:16.433646",
     "start_time": "2016-12-17T22:32:10.022972"
    },
    "collapsed": false
   },
   "outputs": [
    {
     "name": "stderr",
     "output_type": "stream",
     "text": [
      "/Users/daniel/Library/Python/2.7/lib/python/site-packages/ipykernel/__main__.py:7: UnicodeWarning: Unicode equal comparison failed to convert both arguments to Unicode - interpreting them as being unequal\n"
     ]
    }
   ],
   "source": [
    "train_X, train_y = load_sets(train_paths)"
   ]
  },
  {
   "cell_type": "code",
   "execution_count": 37,
   "metadata": {
    "ExecuteTime": {
     "end_time": "2016-12-17T22:34:31.904026",
     "start_time": "2016-12-17T22:34:31.880637"
    },
    "collapsed": false
   },
   "outputs": [],
   "source": [
    "mult_nb = Pipeline([(\"count_vectorizer\", CountVectorizer(analyzer=lambda x: x)), (\"multinomial nb\", MultinomialNB())])\n",
    "bern_nb = Pipeline([(\"count_vectorizer\", CountVectorizer(analyzer=lambda x: x)), (\"bernoulli nb\", BernoulliNB())])\n",
    "mult_nb_tfidf = Pipeline([(\"tfidf_vectorizer\", TfidfVectorizer(analyzer=lambda x: x)), (\"multinomial nb\", MultinomialNB())])\n",
    "bern_nb_tfidf = Pipeline([(\"tfidf_vectorizer\", TfidfVectorizer(analyzer=lambda x: x)), (\"bernoulli nb\", BernoulliNB())])\n",
    "# SVM - which is supposed to be more or less state of the art \n",
    "# http://www.cs.cornell.edu/people/tj/publications/joachims_98a.pdf\n",
    "svc = Pipeline([(\"count_vectorizer\", CountVectorizer(analyzer=lambda x: x)), (\"linear svc\", SVC(kernel=\"linear\"))])\n",
    "svc_tfidf = Pipeline([(\"tfidf_vectorizer\", TfidfVectorizer(analyzer=lambda x: x)), (\"linear svc\", SVC(kernel=\"linear\"))])\n",
    "\n",
    "# random forrest classifier, since they are also used while validating the word2doc classification startegy\n",
    "rf = Pipeline([(\"count_vectorizer\", CountVectorizer(analyzer=lambda x: x)), (\"random forrest\", RandomForestClassifier(n_estimators=200))])\n",
    "rf_tfidf = Pipeline([(\"tfidf_vectorizer\", TfidfVectorizer(analyzer=lambda x: x)), (\"random forrest\", RandomForestClassifier(n_estimators=200))])"
   ]
  },
  {
   "cell_type": "code",
   "execution_count": 38,
   "metadata": {
    "ExecuteTime": {
     "end_time": "2016-12-17T22:52:40.384813",
     "start_time": "2016-12-17T22:34:32.979878"
    },
    "collapsed": false
   },
   "outputs": [
    {
     "name": "stdout",
     "output_type": "stream",
     "text": [
      "now training mult_nb\n",
      "now training mult_nb_tfidf\n",
      "now training bern_nb\n",
      "now training bern_nb_tfidf\n",
      "now training svc\n",
      "now training svc_tfidf\n",
      "now training rf\n",
      "now training rf_tfidf\n"
     ]
    }
   ],
   "source": [
    "all_models = [\n",
    "    (\"mult_nb\", mult_nb),\n",
    "    (\"mult_nb_tfidf\", mult_nb_tfidf),\n",
    "    (\"bern_nb\", bern_nb),\n",
    "    (\"bern_nb_tfidf\", bern_nb_tfidf),\n",
    "    (\"svc\", svc),\n",
    "    (\"svc_tfidf\", svc_tfidf),\n",
    "    (\"rf\", rf), \n",
    "    (\"rf_tfidf\", rf_tfidf)\n",
    "]\n",
    "\n",
    "for name, model in all_models:\n",
    "    print(\"now training {}\".format(name))\n",
    "    model.fit(train_X, train_y)\n",
    "  \n",
    "# do not use cross validation, because the other models are only validated with the single train/validation split\n",
    "# this way we make sure the scores really are compareable\n",
    "# cross validation code below:\n",
    "#scores = sorted([[name, cross_val_score(model, X, y, cv=5).mean()] \n",
    "#                 for name, model in all_models], \n",
    "#                key=lambda (_, x): -x)"
   ]
  },
  {
   "cell_type": "code",
   "execution_count": 39,
   "metadata": {
    "ExecuteTime": {
     "end_time": "2016-12-17T23:15:22.007998",
     "start_time": "2016-12-17T23:11:14.516546"
    },
    "collapsed": false
   },
   "outputs": [
    {
     "name": "stderr",
     "output_type": "stream",
     "text": [
      "/Users/daniel/Library/Python/2.7/lib/python/site-packages/ipykernel/__main__.py:7: UnicodeWarning: Unicode equal comparison failed to convert both arguments to Unicode - interpreting them as being unequal\n"
     ]
    },
    {
     "name": "stdout",
     "output_type": "stream",
     "text": [
      "predicting using mult_nb\n",
      "predicting using mult_nb_tfidf\n",
      "predicting using bern_nb\n",
      "predicting using bern_nb_tfidf\n",
      "predicting using svc\n",
      "predicting using svc_tfidf\n",
      "predicting using rf\n",
      "predicting using rf_tfidf\n"
     ]
    }
   ],
   "source": [
    "scores = []\n",
    "validate_X, validate_y = load_sets(validation_paths)\n",
    "\n",
    "for name, model in all_models:\n",
    "    print(\"predicting using {}\".format(name))\n",
    "    predicted_y = model.predict(validate_X)\n",
    "    score = accuracy_score(validate_y, predicted_y, normalize=True)\n",
    "    scores.append((name, score))"
   ]
  },
  {
   "cell_type": "code",
   "execution_count": 40,
   "metadata": {
    "ExecuteTime": {
     "end_time": "2016-12-17T23:31:42.032341",
     "start_time": "2016-12-17T23:31:42.020706"
    },
    "collapsed": false
   },
   "outputs": [
    {
     "name": "stdout",
     "output_type": "stream",
     "text": [
      "           model     score\n",
      "0        mult_nb  0.464458\n",
      "1  mult_nb_tfidf  0.346288\n",
      "2        bern_nb  0.370786\n",
      "3  bern_nb_tfidf  0.370786\n",
      "4            svc  0.455572\n",
      "5      svc_tfidf  0.480070\n",
      "6             rf  0.463710\n",
      "7       rf_tfidf  0.461219\n"
     ]
    }
   ],
   "source": [
    "result = DataFrame(scores, None, (\"model\", 'score'))\n",
    "print(result)  \n"
   ]
  },
  {
   "cell_type": "code",
   "execution_count": null,
   "metadata": {
    "collapsed": true
   },
   "outputs": [],
   "source": []
  },
  {
   "cell_type": "code",
   "execution_count": null,
   "metadata": {
    "collapsed": true
   },
   "outputs": [],
   "source": []
  }
 ],
 "metadata": {
  "kernelspec": {
   "display_name": "Python 2",
   "language": "python",
   "name": "python2"
  },
  "language_info": {
   "codemirror_mode": {
    "name": "ipython",
    "version": 2
   },
   "file_extension": ".py",
   "mimetype": "text/x-python",
   "name": "python",
   "nbconvert_exporter": "python",
   "pygments_lexer": "ipython2",
   "version": "2.7.10"
  }
 },
 "nbformat": 4,
 "nbformat_minor": 1
}
