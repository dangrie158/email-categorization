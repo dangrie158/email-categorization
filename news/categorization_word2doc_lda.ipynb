{
 "cells": [
  {
   "cell_type": "markdown",
   "metadata": {},
   "source": [
    "# Categorization using averaged word vectors as document feature"
   ]
  },
  {
   "cell_type": "code",
   "execution_count": 1,
   "metadata": {
    "ExecuteTime": {
     "end_time": "2017-01-22T18:52:02.181071",
     "start_time": "2017-01-22T18:52:00.017063"
    },
    "collapsed": false
   },
   "outputs": [
    {
     "name": "stderr",
     "output_type": "stream",
     "text": [
      "/Users/daniel/Library/Python/2.7/lib/python/site-packages/gensim/utils.py:1015: UserWarning: Pattern library is not installed, lemmatization won't be available.\n",
      "  warnings.warn(\"Pattern library is not installed, lemmatization won't be available.\")\n",
      "/Library/Python/2.7/site-packages/sklearn/cross_validation.py:44: DeprecationWarning: This module was deprecated in version 0.18 in favor of the model_selection module into which all the refactored classes and functions are moved. Also note that the interface of the new CV iterators are different from that of this module. This module will be removed in 0.20.\n",
      "  \"This module will be removed in 0.20.\", DeprecationWarning)\n"
     ]
    }
   ],
   "source": [
    "from gensim.models import Word2Vec\n",
    "from gensim.models.word2vec import LineSentence\n",
    "from pandas import DataFrame\n",
    "from sklearn.metrics import accuracy_score\n",
    "from sklearn.cross_validation import cross_val_score\n",
    "from sklearn.ensemble import RandomForestClassifier\n",
    "from sklearn.feature_extraction.text import TfidfVectorizer\n",
    "from collections import defaultdict\n",
    "from sklearn.pipeline import Pipeline\n",
    "from sklearn.svm import SVC\n",
    "import numpy as np\n",
    "from nltk.corpus import stopwords as sw\n",
    "\n",
    "stopwords = sw.words('german')\n",
    "# gensims LineSentence generator replaces umlauts with \n",
    "# u, a or o so add these variants to the stopwordlist\n",
    "for stopword in stopwords:\n",
    "    stopword = stopword.replace(u'ü', 'u')\n",
    "    stopword = stopword.replace(u'ö', 'o')\n",
    "    stopword = stopword.replace(u'ä', 'a')\n",
    "    if stopword not in stopwords:\n",
    "        stopwords.append(stopword)"
   ]
  },
  {
   "cell_type": "markdown",
   "metadata": {},
   "source": [
    "get a list of:\n",
    "* the full corpora split into categories -> ```fulldata_path```\n",
    "* a subset of each category corpus used for training -> ```train_paths```\n",
    "* a subset of each category corpus used for validation -> ```validation_paths```\n",
    "\n",
    "the categories were split into training / validation by using the ```mail/generateSets.py``` script with a 70 / 30 split between training and validation"
   ]
  },
  {
   "cell_type": "code",
   "execution_count": 2,
   "metadata": {
    "ExecuteTime": {
     "end_time": "2017-01-22T18:52:43.998170",
     "start_time": "2017-01-22T18:52:02.183418"
    },
    "collapsed": false
   },
   "outputs": [],
   "source": [
    "category_names = ['Sonstiges', 'Lifestyle', \n",
    "          'Wirtschaft', 'Finanzen', 'Lokal', \n",
    "          'Politik', 'Sport', 'Technologie', 'Kultur']\n",
    "\n",
    "num_models = len(category_names)\n",
    "\n",
    "# the list of full corpora\n",
    "fulldata_paths = [(x, \"corpus/corpus{}.txt\".format(x)) for x in category_names]\n",
    "\n",
    "# the corpora with a fixed split for training and validation\n",
    "train_paths = [(x, \"data/corpus{}.training.txt\".format(x)) for x in category_names]\n",
    "validation_paths = [(x, \"data/corpus{}.validation.txt\".format(x)) for x in category_names]\n",
    "\n",
    "base_model = Word2Vec.load('../wiki/data/wiki.de.word2vec.model')"
   ]
  },
  {
   "cell_type": "code",
   "execution_count": 3,
   "metadata": {
    "ExecuteTime": {
     "end_time": "2017-01-22T18:52:44.008291",
     "start_time": "2017-01-22T18:52:43.999731"
    },
    "collapsed": false
   },
   "outputs": [],
   "source": [
    "def load_sets(paths):\n",
    "    X, y = [], []\n",
    "\n",
    "    for name, path in paths:\n",
    "        with open(path) as cur_file:\n",
    "            for line in cur_file:\n",
    "                tokens = [x for x in line.split() if x not in stopwords]\n",
    "                if len(tokens) > 0:\n",
    "                    X.append(tokens)\n",
    "                    y.append(name)\n",
    "    print(\"loaded {} articles\".format(len(X)))\n",
    "    return X, y"
   ]
  },
  {
   "cell_type": "markdown",
   "metadata": {},
   "source": [
    "## word2vec Vectorizers\n",
    "These vectorizers are used to transform a set of vectors to a single vector. They are used to transform a list of word embeddings to a single vector that represents the whole article.\n",
    "\n",
    "Both variations simply build the average of all word-vectors. The TFIDF variation however uses the word frequency and inverse-document frequency to weight the word vectors.\n",
    "\n",
    "The implementation in mostly adapted from [Text Classification With Word2Vec](http://nadbordrozd.github.io/blog/2016/05/20/text-classification-with-word2vec/) by Nadbor Drozd"
   ]
  },
  {
   "cell_type": "markdown",
   "metadata": {},
   "source": [
    "The ```MeanEmbeddingVectorizer``` generates a document vector $  \\overrightarrow { d } $ from a list of word vectors by calculating\n",
    "\n",
    "$$ \\overrightarrow { d } =\\frac { \\sum _{ i=0 }^{ dim(d) }{ \\overrightarrow { { w }_{ d,i } }  }  }{ dim(d) } $$\n",
    "\n",
    "where: \n",
    "* $ \\overrightarrow { {w}_{d,i} } $ is the $ i $-th word of document $ d $"
   ]
  },
  {
   "cell_type": "code",
   "execution_count": 4,
   "metadata": {
    "ExecuteTime": {
     "end_time": "2017-01-22T18:52:44.016619",
     "start_time": "2017-01-22T18:52:44.010843"
    },
    "collapsed": true
   },
   "outputs": [],
   "source": [
    "class MeanEmbeddingVectorizer(object):\n",
    "    def __init__(self, word2vec):\n",
    "        self.word2vec = word2vec\n",
    "        self.dim = word2vec.vector_size\n",
    "    \n",
    "    def fit(self, X, y):\n",
    "        return self \n",
    "\n",
    "    def transform(self, X):\n",
    "        return np.array([\n",
    "            np.mean([self.word2vec[w] for w in words if w in self.word2vec] \n",
    "                    or [np.zeros(self.dim)], axis=0)\n",
    "            for words in X\n",
    "        ])"
   ]
  },
  {
   "cell_type": "markdown",
   "metadata": {},
   "source": [
    "The ```TfidfEmbeddingVectorizer``` uses the same averaging strategy as the ```MeanEmbeddingVectorizer```, however it also weights every word vector $ \\overrightarrow { {w}_{d,i} }$ with the term frequency-inverse document frequency (TF-IDF) of the word to put more weight on words appearing in fewer documents.\n",
    "\n",
    "$$ \\overrightarrow { d } =\\frac { \\sum _{ i=0 }^{ dim(d) }{ \\overrightarrow { { w }_{ d,i } } *tfidf(\\overrightarrow { { w }_{ d,i } } ) }  }{ dim(d) }  $$"
   ]
  },
  {
   "cell_type": "code",
   "execution_count": 5,
   "metadata": {
    "ExecuteTime": {
     "end_time": "2017-01-22T18:52:44.028376",
     "start_time": "2017-01-22T18:52:44.018154"
    },
    "collapsed": true
   },
   "outputs": [],
   "source": [
    "class TfidfEmbeddingVectorizer(object):\n",
    "    def __init__(self, word2vec):\n",
    "        self.word2vec = word2vec\n",
    "        self.word2weight = None\n",
    "        self.dim = word2vec.vector_size\n",
    "        \n",
    "    def fit(self, X, y):\n",
    "        tfidf = TfidfVectorizer(analyzer=lambda x: x)\n",
    "        tfidf.fit(X)\n",
    "        # if a word was never seen - it must be at least as infrequent\n",
    "        # as any of the known words - so the default idf is the max of \n",
    "        # known idf's\n",
    "        max_idf = max(tfidf.idf_)\n",
    "        self.word2weight = defaultdict(\n",
    "            lambda: max_idf, \n",
    "            [(w, tfidf.idf_[i]) for w, i in tfidf.vocabulary_.items()])\n",
    "    \n",
    "        return self\n",
    "    \n",
    "    def transform(self, X):\n",
    "        return np.array([\n",
    "                np.mean([self.word2vec[w] * self.word2weight[w]\n",
    "                         for w in words if w in self.word2vec] or\n",
    "                        [np.zeros(self.dim)], axis=0)\n",
    "                for words in X\n",
    "            ])"
   ]
  },
  {
   "cell_type": "markdown",
   "metadata": {},
   "source": [
    "a simple random forest classifier is used for classification of the document vectors"
   ]
  },
  {
   "cell_type": "code",
   "execution_count": 6,
   "metadata": {
    "ExecuteTime": {
     "end_time": "2017-01-22T18:52:44.034257",
     "start_time": "2017-01-22T18:52:44.029907"
    },
    "collapsed": false
   },
   "outputs": [],
   "source": [
    "rf_w2v = Pipeline([(\"word2vec vectorizer\", MeanEmbeddingVectorizer(base_model)), \n",
    "                        (\"random forest\", SVC(kernel=\"linear\"))])\n",
    "rf_w2v_tfidf = Pipeline([(\"word2vec vectorizer\", TfidfEmbeddingVectorizer(base_model)), \n",
    "                        (\"random forest\", SVC(kernel=\"linear\"))])"
   ]
  },
  {
   "cell_type": "markdown",
   "metadata": {},
   "source": [
    "## Cross validation Score\n",
    "\n",
    "in this section, the cross_val_score function of scikitlearn is used to validate the model. \n",
    "\n",
    "However, to be able to equally compare the different classification strategies, a fixed training and validation set is used in the next section."
   ]
  },
  {
   "cell_type": "code",
   "execution_count": 7,
   "metadata": {
    "ExecuteTime": {
     "end_time": "2017-01-22T18:57:16.880277",
     "start_time": "2017-01-22T18:52:44.036152"
    },
    "collapsed": false
   },
   "outputs": [
    {
     "name": "stderr",
     "output_type": "stream",
     "text": [
      "/Users/daniel/Library/Python/2.7/lib/python/site-packages/ipykernel/__main__.py:7: UnicodeWarning: Unicode equal comparison failed to convert both arguments to Unicode - interpreting them as being unequal\n"
     ]
    },
    {
     "name": "stdout",
     "output_type": "stream",
     "text": [
      "loaded 29648 articles\n"
     ]
    }
   ],
   "source": [
    "X, y = load_sets(fulldata_paths)"
   ]
  },
  {
   "cell_type": "code",
   "execution_count": 8,
   "metadata": {
    "ExecuteTime": {
     "end_time": "2017-01-22T19:06:01.144663",
     "start_time": "2017-01-22T18:57:16.882347"
    },
    "collapsed": false
   },
   "outputs": [],
   "source": [
    "score_rf = cross_val_score(rf_w2v, X, y, cv=2).mean()"
   ]
  },
  {
   "cell_type": "code",
   "execution_count": 9,
   "metadata": {
    "ExecuteTime": {
     "end_time": "2017-01-22T19:30:31.379372",
     "start_time": "2017-01-22T19:06:01.151789"
    },
    "collapsed": false
   },
   "outputs": [],
   "source": [
    "score_rf_tfidf = cross_val_score(rf_w2v_tfidf, X, y, cv=2).mean()"
   ]
  },
  {
   "cell_type": "code",
   "execution_count": 10,
   "metadata": {
    "ExecuteTime": {
     "end_time": "2017-01-22T19:30:31.397879",
     "start_time": "2017-01-22T19:30:31.382676"
    },
    "collapsed": false
   },
   "outputs": [
    {
     "name": "stdout",
     "output_type": "stream",
     "text": [
      "Score simple: 0.684127562906\n",
      "Score TFIDF:  0.631745857118\n"
     ]
    }
   ],
   "source": [
    "print('Score simple: {}'.format(score_rf))\n",
    "print('Score TFIDF:  {}'.format(score_rf_tfidf))"
   ]
  },
  {
   "cell_type": "markdown",
   "metadata": {
    "collapsed": true
   },
   "source": [
    "## Training"
   ]
  },
  {
   "cell_type": "code",
   "execution_count": 11,
   "metadata": {
    "ExecuteTime": {
     "end_time": "2017-01-22T19:30:31.409882",
     "start_time": "2017-01-22T19:30:31.400221"
    },
    "collapsed": true
   },
   "outputs": [],
   "source": [
    "# use only the tfidf model for further consideration since it performs slightly better in the cross validation\n",
    "# however, it also needs twice the time to compute\n",
    "\n",
    "# create a new instance to make sure the model isn't pre trained from the previous step\n",
    "test_model =  Pipeline([(\"word2vec vectorizer\", TfidfEmbeddingVectorizer(base_model)), \n",
    "                        (\"extra trees\", SVC(kernel=\"linear\"))])"
   ]
  },
  {
   "cell_type": "markdown",
   "metadata": {},
   "source": [
    "load the training data"
   ]
  },
  {
   "cell_type": "code",
   "execution_count": 12,
   "metadata": {
    "ExecuteTime": {
     "end_time": "2017-01-22T19:34:36.240327",
     "start_time": "2017-01-22T19:30:31.411970"
    },
    "collapsed": false
   },
   "outputs": [
    {
     "name": "stderr",
     "output_type": "stream",
     "text": [
      "/Users/daniel/Library/Python/2.7/lib/python/site-packages/ipykernel/__main__.py:7: UnicodeWarning: Unicode equal comparison failed to convert both arguments to Unicode - interpreting them as being unequal\n"
     ]
    },
    {
     "name": "stdout",
     "output_type": "stream",
     "text": [
      "loaded 26689 articles\n"
     ]
    }
   ],
   "source": [
    "train_X, train_y = load_sets(train_paths)"
   ]
  },
  {
   "cell_type": "markdown",
   "metadata": {},
   "source": [
    "train the model"
   ]
  },
  {
   "cell_type": "code",
   "execution_count": 13,
   "metadata": {
    "ExecuteTime": {
     "end_time": "2017-01-22T19:56:09.615044",
     "start_time": "2017-01-22T19:34:36.242284"
    },
    "collapsed": false
   },
   "outputs": [],
   "source": [
    "# fit returns self. assign it to a dummy variable to stop jupyter from printing the model\n",
    "_ = test_model.fit(train_X, train_y)"
   ]
  },
  {
   "cell_type": "code",
   "execution_count": 14,
   "metadata": {
    "ExecuteTime": {
     "end_time": "2017-01-22T19:56:57.489379",
     "start_time": "2017-01-22T19:56:09.616704"
    },
    "collapsed": false
   },
   "outputs": [
    {
     "name": "stderr",
     "output_type": "stream",
     "text": [
      "/Users/daniel/Library/Python/2.7/lib/python/site-packages/ipykernel/__main__.py:7: UnicodeWarning: Unicode equal comparison failed to convert both arguments to Unicode - interpreting them as being unequal\n"
     ]
    },
    {
     "name": "stdout",
     "output_type": "stream",
     "text": [
      "loaded 2959 articles\n"
     ]
    }
   ],
   "source": [
    "validate_X, validate_y = load_sets(validation_paths)\n",
    "predicted_y = test_model.predict(validate_X)"
   ]
  },
  {
   "cell_type": "markdown",
   "metadata": {},
   "source": [
    "## Validation\n",
    "\n",
    "This section performs the same validation steps that were used when validating the log-likelihood score approach fpr article classification, so the steps aren't as well documented. Thee the other document for a complete explanation"
   ]
  },
  {
   "cell_type": "code",
   "execution_count": 15,
   "metadata": {
    "ExecuteTime": {
     "end_time": "2017-01-22T19:56:57.525462",
     "start_time": "2017-01-22T19:56:57.490900"
    },
    "collapsed": false
   },
   "outputs": [
    {
     "name": "stdout",
     "output_type": "stream",
     "text": [
      "             Sonstiges  Lifestyle  Wirtschaft  Finanzen  Lokal  Politik  \\\n",
      "Sonstiges          263         72          13         4     21       43   \n",
      "Lifestyle           29         68          14         5      4        9   \n",
      "Wirtschaft          19         14         348        50      4       36   \n",
      "Finanzen             1          2          20        91      0        6   \n",
      "Lokal                8          0           5         1     79       15   \n",
      "Politik             85         20          69         6     40      770   \n",
      "Sport                4          1           3         1      0        1   \n",
      "Technologie          8          8          25         0      3        4   \n",
      "Kultur              30         18           5         1      0        6   \n",
      "\n",
      "             Sport  Technologie  Kultur  \n",
      "Sonstiges        5           18      38  \n",
      "Lifestyle        2            6      12  \n",
      "Wirtschaft       3           18       4  \n",
      "Finanzen         0            2       0  \n",
      "Lokal            0            3       0  \n",
      "Politik          1            7       8  \n",
      "Sport          250            0       0  \n",
      "Technologie      0          152      11  \n",
      "Kultur           1           10      56  \n"
     ]
    }
   ],
   "source": [
    "classification_matrix = np.zeros([num_models, num_models], dtype=int)\n",
    "\n",
    "for target, predicted in zip(validate_y, predicted_y):\n",
    "    target_index = category_names.index(target)\n",
    "    predicted_index = category_names.index(predicted)\n",
    "    classification_matrix[predicted_index, target_index] += 1\n",
    "    \n",
    "result = DataFrame(classification_matrix, category_names, category_names)\n",
    "print(result)  "
   ]
  },
  {
   "cell_type": "markdown",
   "metadata": {
    "ExecuteTime": {
     "end_time": "2016-12-15T09:57:44.332210",
     "start_time": "2016-12-15T09:57:44.328750"
    }
   },
   "source": [
    "## Accuracy"
   ]
  },
  {
   "cell_type": "code",
   "execution_count": 16,
   "metadata": {
    "ExecuteTime": {
     "end_time": "2017-01-22T19:56:57.540495",
     "start_time": "2017-01-22T19:56:57.527009"
    },
    "collapsed": false,
    "scrolled": false
   },
   "outputs": [
    {
     "name": "stdout",
     "output_type": "stream",
     "text": [
      "             Sonstiges  Lifestyle  Wirtschaft  Finanzen     Lokal   Politik  \\\n",
      "Sonstiges     0.551363   0.150943    0.027254  0.008386  0.044025  0.090147   \n",
      "Lifestyle     0.194631   0.456376    0.093960  0.033557  0.026846  0.060403   \n",
      "Wirtschaft    0.038306   0.028226    0.701613  0.100806  0.008065  0.072581   \n",
      "Finanzen      0.008197   0.016393    0.163934  0.745902  0.000000  0.049180   \n",
      "Lokal         0.072072   0.000000    0.045045  0.009009  0.711712  0.135135   \n",
      "Politik       0.084493   0.019881    0.068588  0.005964  0.039761  0.765408   \n",
      "Sport         0.015385   0.003846    0.011538  0.003846  0.000000  0.003846   \n",
      "Technologie   0.037915   0.037915    0.118483  0.000000  0.014218  0.018957   \n",
      "Kultur        0.236220   0.141732    0.039370  0.007874  0.000000  0.047244   \n",
      "\n",
      "                Sport  Technologie    Kultur  \n",
      "Sonstiges    0.010482     0.037736  0.079665  \n",
      "Lifestyle    0.013423     0.040268  0.080537  \n",
      "Wirtschaft   0.006048     0.036290  0.008065  \n",
      "Finanzen     0.000000     0.016393  0.000000  \n",
      "Lokal        0.000000     0.027027  0.000000  \n",
      "Politik      0.000994     0.006958  0.007952  \n",
      "Sport        0.961538     0.000000  0.000000  \n",
      "Technologie  0.000000     0.720379  0.052133  \n",
      "Kultur       0.007874     0.078740  0.440945  \n"
     ]
    }
   ],
   "source": [
    "# the max(, 1) function surrounding sum makes sure wo don't divide by 0 if no match occurred\n",
    "accuracy_matrix = [category / float(max([sum(category) ,1])) for category in classification_matrix]\n",
    "\n",
    "result = DataFrame(accuracy_matrix, category_names, category_names)\n",
    "print(result)  "
   ]
  },
  {
   "cell_type": "code",
   "execution_count": 17,
   "metadata": {
    "ExecuteTime": {
     "end_time": "2017-01-22T19:56:57.547100",
     "start_time": "2017-01-22T19:56:57.541989"
    },
    "collapsed": false
   },
   "outputs": [
    {
     "name": "stdout",
     "output_type": "stream",
     "text": [
      "score: 0.701926326462\n"
     ]
    }
   ],
   "source": [
    "true_positives = 0.0\n",
    "num_samples = 0\n",
    "for x in range(num_models):\n",
    "    true_positives += classification_matrix[x][x]\n",
    "    num_samples += sum(classification_matrix[x])\n",
    "    \n",
    "average_score = true_positives / num_samples\n",
    "\n",
    "print('score: {}'.format(average_score))"
   ]
  },
  {
   "cell_type": "code",
   "execution_count": 18,
   "metadata": {
    "ExecuteTime": {
     "end_time": "2017-01-22T19:56:57.553860",
     "start_time": "2017-01-22T19:56:57.548673"
    },
    "collapsed": false
   },
   "outputs": [
    {
     "name": "stdout",
     "output_type": "stream",
     "text": [
      "score: 0.701926326462\n"
     ]
    }
   ],
   "source": [
    "# make suer we calculate the \"same\" accuracy as scipy\n",
    "# just to prevent dumb mistakes...\n",
    "score = accuracy_score(validate_y, predicted_y, normalize=True)\n",
    "print('score: {}'.format(score))"
   ]
  },
  {
   "cell_type": "code",
   "execution_count": 19,
   "metadata": {
    "ExecuteTime": {
     "end_time": "2017-01-22T19:56:57.557858",
     "start_time": "2017-01-22T19:56:57.555345"
    },
    "collapsed": true
   },
   "outputs": [],
   "source": [
    "# phew"
   ]
  },
  {
   "cell_type": "code",
   "execution_count": null,
   "metadata": {
    "collapsed": true
   },
   "outputs": [],
   "source": []
  }
 ],
 "metadata": {
  "kernelspec": {
   "display_name": "Python 2",
   "language": "python",
   "name": "python2"
  },
  "language_info": {
   "codemirror_mode": {
    "name": "ipython",
    "version": 2
   },
   "file_extension": ".py",
   "mimetype": "text/x-python",
   "name": "python",
   "nbconvert_exporter": "python",
   "pygments_lexer": "ipython2",
   "version": "2.7.10"
  }
 },
 "nbformat": 4,
 "nbformat_minor": 1
}
