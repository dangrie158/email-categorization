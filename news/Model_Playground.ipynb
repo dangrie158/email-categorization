{
 "cells": [
  {
   "cell_type": "code",
   "execution_count": 1,
   "metadata": {
    "ExecuteTime": {
     "end_time": "2016-12-05T09:10:00.308707",
     "start_time": "2016-12-05T09:09:59.537338"
    },
    "collapsed": false
   },
   "outputs": [
    {
     "name": "stderr",
     "output_type": "stream",
     "text": [
      "/Users/daniel/Library/Python/2.7/lib/python/site-packages/gensim/utils.py:1015: UserWarning: Pattern library is not installed, lemmatization won't be available.\n",
      "  warnings.warn(\"Pattern library is not installed, lemmatization won't be available.\")\n"
     ]
    }
   ],
   "source": [
    "from gensim.models import Word2Vec"
   ]
  },
  {
   "cell_type": "code",
   "execution_count": 2,
   "metadata": {
    "ExecuteTime": {
     "end_time": "2016-12-05T09:17:11.523797",
     "start_time": "2016-12-05T09:16:29.099056"
    },
    "collapsed": false
   },
   "outputs": [],
   "source": [
    "news_model = Word2Vec.load('data/news+base.word2vec.model')"
   ]
  },
  {
   "cell_type": "code",
   "execution_count": 9,
   "metadata": {
    "ExecuteTime": {
     "end_time": "2016-12-05T09:23:46.344200",
     "start_time": "2016-12-05T09:23:45.499889"
    },
    "collapsed": true
   },
   "outputs": [],
   "source": [
    "pure_news_model = Word2Vec.load('data/news.word2vec.model')"
   ]
  },
  {
   "cell_type": "code",
   "execution_count": 25,
   "metadata": {
    "ExecuteTime": {
     "end_time": "2016-12-05T11:30:15.451747",
     "start_time": "2016-12-05T11:30:15.191029"
    },
    "collapsed": false
   },
   "outputs": [
    {
     "data": {
      "text/plain": [
       "[(u'cluentio', 0.34785786271095276),\n",
       " (u'celta', 0.3336274027824402),\n",
       " (u'nordwestlicher', 0.332113116979599),\n",
       " (u's\\xfcd\\xf6stlicher', 0.33170199394226074),\n",
       " (u'nord\\xf6stlicher', 0.3309960663318634),\n",
       " (u'bogdanovich', 0.3218120336532593),\n",
       " (u'tempore', 0.32157236337661743),\n",
       " (u'sloterdijk', 0.3182229995727539),\n",
       " (u'quinctio', 0.31402289867401123),\n",
       " (u'jak\\xfabek', 0.3132181167602539)]"
      ]
     },
     "execution_count": 25,
     "metadata": {},
     "output_type": "execute_result"
    }
   ],
   "source": [
    "news_model.most_similar('donald')"
   ]
  },
  {
   "cell_type": "code",
   "execution_count": 27,
   "metadata": {
    "ExecuteTime": {
     "end_time": "2016-12-05T11:30:33.487987",
     "start_time": "2016-12-05T11:30:33.473014"
    },
    "collapsed": false
   },
   "outputs": [
    {
     "data": {
      "text/plain": [
       "[(u'baldwins', 0.5638899803161621),\n",
       " (u'rally', 0.5154129862785339),\n",
       " (u'towers', 0.49854928255081177),\n",
       " (u'ubergangsteam', 0.49695664644241333),\n",
       " (u'loyalisten', 0.4734702706336975),\n",
       " (u'melania', 0.45940136909484863),\n",
       " (u'schwiegersohn', 0.43018943071365356),\n",
       " (u'wahlkampfer', 0.42357954382896423),\n",
       " (u'heil', 0.41340333223342896),\n",
       " (u'organization', 0.40498653054237366)]"
      ]
     },
     "execution_count": 27,
     "metadata": {},
     "output_type": "execute_result"
    }
   ],
   "source": [
    "pure_news_model.most_similar('donald')"
   ]
  },
  {
   "cell_type": "code",
   "execution_count": null,
   "metadata": {
    "collapsed": true
   },
   "outputs": [],
   "source": []
  }
 ],
 "metadata": {
  "kernelspec": {
   "display_name": "Python 2",
   "language": "python",
   "name": "python2"
  },
  "language_info": {
   "codemirror_mode": {
    "name": "ipython",
    "version": 2
   },
   "file_extension": ".py",
   "mimetype": "text/x-python",
   "name": "python",
   "nbconvert_exporter": "python",
   "pygments_lexer": "ipython2",
   "version": "2.7.10"
  }
 },
 "nbformat": 4,
 "nbformat_minor": 1
}
