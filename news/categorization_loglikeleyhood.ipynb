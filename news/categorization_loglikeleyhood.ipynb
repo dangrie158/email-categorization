{
 "cells": [
  {
   "cell_type": "markdown",
   "metadata": {},
   "source": [
    "# Categorization using log-likelihood of word2vec models"
   ]
  },
  {
   "cell_type": "code",
   "execution_count": 4,
   "metadata": {
    "ExecuteTime": {
     "end_time": "2017-01-22T18:42:55.813436",
     "start_time": "2017-01-22T18:42:55.809719"
    },
    "collapsed": false,
    "slideshow": {
     "slide_type": "slide"
    }
   },
   "outputs": [],
   "source": [
    "from gensim.models import Word2Vec\n",
    "from gensim.models.word2vec import LineSentence\n",
    "from pandas import DataFrame\n",
    "import numpy as np"
   ]
  },
  {
   "cell_type": "markdown",
   "metadata": {
    "slideshow": {
     "slide_type": "slide"
    }
   },
   "source": [
    "construct the file names for the learned models and the validation sets"
   ]
  },
  {
   "cell_type": "code",
   "execution_count": 5,
   "metadata": {
    "ExecuteTime": {
     "end_time": "2017-01-22T18:42:55.820967",
     "start_time": "2017-01-22T18:42:55.815703"
    },
    "collapsed": false,
    "slideshow": {
     "slide_type": "slide"
    }
   },
   "outputs": [],
   "source": [
    "category_names = ['Sonstiges', 'Lifestyle', \n",
    "          'Wirtschaft', 'Finanzen', 'Lokal', \n",
    "          'Politik', 'Sport', 'Technologie', 'Kultur']\n",
    "\n",
    "num_models = len(category_names)\n",
    "model_paths = [\"data/corpus{}+base.word2vec.model\".format(x) for x in category_names]\n",
    "validation_paths = [\"data/corpus{}.validation.txt\".format(x) for x in category_names]"
   ]
  },
  {
   "cell_type": "markdown",
   "metadata": {
    "slideshow": {
     "slide_type": "slide"
    }
   },
   "source": [
    "load the validation sets"
   ]
  },
  {
   "cell_type": "code",
   "execution_count": 6,
   "metadata": {
    "ExecuteTime": {
     "end_time": "2017-01-22T18:42:56.020605",
     "start_time": "2017-01-22T18:42:55.824048"
    },
    "collapsed": false,
    "slideshow": {
     "slide_type": "slide"
    }
   },
   "outputs": [
    {
     "name": "stdout",
     "output_type": "stream",
     "text": [
      "number of articles used for validation:\n",
      "             dim(V_i)\n",
      "Sonstiges         447\n",
      "Lifestyle         203\n",
      "Wirtschaft        502\n",
      "Finanzen          159\n",
      "Lokal             151\n",
      "Politik           890\n",
      "Sport             262\n",
      "Technologie       216\n",
      "Kultur            132\n"
     ]
    }
   ],
   "source": [
    "validators = [LineSentence(path) for path in validation_paths]\n",
    "num_validation_entries = [sum([1 for _ in x]) for x in validators]\n",
    "validation_stats = DataFrame(num_validation_entries, category_names, ['dim(V_i)'])\n",
    "print('number of articles used for validation:')\n",
    "print(validation_stats) "
   ]
  },
  {
   "cell_type": "markdown",
   "metadata": {
    "slideshow": {
     "slide_type": "slide"
    }
   },
   "source": [
    "## Validation\n",
    "\n",
    "validate each validation set with all models and calculate the score (log likelihood) of each sentence for each model.\n",
    "\n",
    "scores is an array in the form:\n",
    "\n",
    "    [for each model:\n",
    "        [for each validation set:\n",
    "            [score of each sentence]\n",
    "        ]\n",
    "    ]\n",
    "\n",
    "**Note**:\n",
    "There is no cross validation implemented, since it would require learning the category models ${ M }_{ i }$ on-the-fly which is in the current implementation too needy for memory"
   ]
  },
  {
   "cell_type": "code",
   "execution_count": 7,
   "metadata": {
    "ExecuteTime": {
     "end_time": "2017-01-22T18:42:56.028353",
     "start_time": "2017-01-22T18:42:56.022390"
    },
    "collapsed": false,
    "slideshow": {
     "slide_type": "slide"
    }
   },
   "outputs": [],
   "source": [
    "def get_scores(model_path):\n",
    "    # load the model\n",
    "    print('loading model {}'.format(model_path))\n",
    "    model =  Word2Vec.load(model_path)\n",
    "    # calculate the score (log likelihood) of each validation set for this model\n",
    "    print('validating model...')\n",
    "    scores = [model.score(validator) for validator in validators]\n",
    "    return scores"
   ]
  },
  {
   "cell_type": "markdown",
   "metadata": {
    "slideshow": {
     "slide_type": "slide"
    }
   },
   "source": [
    "main loop that calculates the scores for all models"
   ]
  },
  {
   "cell_type": "code",
   "execution_count": 8,
   "metadata": {
    "ExecuteTime": {
     "end_time": "2017-01-22T18:50:03.928686",
     "start_time": "2017-01-22T18:42:56.030983"
    },
    "collapsed": false,
    "slideshow": {
     "slide_type": "slide"
    }
   },
   "outputs": [
    {
     "name": "stdout",
     "output_type": "stream",
     "text": [
      "loading model data/corpusSonstiges+base.word2vec.model\n",
      "validating model...\n",
      "loading model data/corpusLifestyle+base.word2vec.model\n",
      "validating model...\n",
      "loading model data/corpusWirtschaft+base.word2vec.model\n",
      "validating model...\n",
      "loading model data/corpusFinanzen+base.word2vec.model\n",
      "validating model...\n",
      "loading model data/corpusLokal+base.word2vec.model\n",
      "validating model...\n",
      "loading model data/corpusPolitik+base.word2vec.model\n",
      "validating model...\n",
      "loading model data/corpusSport+base.word2vec.model\n",
      "validating model...\n",
      "loading model data/corpusTechnologie+base.word2vec.model\n",
      "validating model...\n",
      "loading model data/corpusKultur+base.word2vec.model\n",
      "validating model...\n"
     ]
    }
   ],
   "source": [
    "#container to hold the calculated scores\n",
    "scores = []\n",
    "\n",
    "for model in model_paths:\n",
    "    model_scores = get_scores(model)\n",
    "    scores.append(model_scores)"
   ]
  },
  {
   "cell_type": "markdown",
   "metadata": {
    "slideshow": {
     "slide_type": "slide"
    }
   },
   "source": [
    "## Log Likelihood\n",
    "\n",
    "output the average score (log likelihood) of all sentences in a validation set for one model\n",
    "\n",
    "row = average likelihood that an item of this category is generated by the model in the row\n",
    "\n",
    "e.g: the lowest value in each column is the category a sentence of this model is most likely classified to\n",
    "\n",
    "$$ { S }_{ i,j }=\\frac { \\sum _{ s=1 }^{ dim({ V }_{ i }) }{ score({ S(V }_{ i },\\quad s),\\quad { M }_{ j }) }  }{ dim({ V }_{ i }) } $$\n",
    "\n",
    "where:\n",
    "* ${ V }_{ i } $ is the validationset for category $i$\n",
    "* ${ M }_{ i } $ is the model trained for category $i$\n",
    "* ${ S }_{ i,j }$ is the score ($i$ is the column, $j$ is the row in the table)\n",
    "* $S({V}_{i}, x)$ is the $x$th sentence in the validation set ${V}_{i}$\n",
    "* $dim({ V }_{ i })$ is the number of elements in the validation set\n",
    "* $score(s, m)$ is the log-likelihood that the word is generated by the model [[Taddy, Matt. Document Classification by Inversion of Distributed Language Representations](https://arxiv.org/pdf/1504.07295.pdf)]\n"
   ]
  },
  {
   "cell_type": "code",
   "execution_count": 9,
   "metadata": {
    "ExecuteTime": {
     "end_time": "2017-01-22T18:50:03.983412",
     "start_time": "2017-01-22T18:50:03.933364"
    },
    "collapsed": false,
    "slideshow": {
     "slide_type": "slide"
    }
   },
   "outputs": [
    {
     "name": "stdout",
     "output_type": "stream",
     "text": [
      "               Sonstiges    Lifestyle   Wirtschaft     Finanzen        Lokal  \\\n",
      "Sonstiges   -2883.616902 -3410.463742 -3547.662959 -3614.414392 -3579.666276   \n",
      "Lifestyle   -3681.461870 -3159.540947 -3655.325537 -3923.542843 -3904.480044   \n",
      "Wirtschaft  -2119.378694 -1932.718305 -1640.188265 -2157.852859 -2254.527094   \n",
      "Finanzen    -2800.564684 -2973.300450 -2823.798655 -2201.317234 -3228.492117   \n",
      "Lokal       -4969.932780 -5048.889821 -5475.762360 -5186.843923 -3581.847029   \n",
      "Politik     -3254.685915 -3239.631214 -3256.058618 -3473.693254 -3498.426982   \n",
      "Sport       -4275.419466 -4378.874614 -4568.987498 -4521.432009 -4382.287570   \n",
      "Technologie -3678.785152 -3675.204371 -3730.093747 -3799.082383 -3899.725014   \n",
      "Kultur      -6804.892096 -6822.291942 -7274.635491 -7297.410869 -7319.332980   \n",
      "\n",
      "                 Politik        Sport  Technologie       Kultur  \n",
      "Sonstiges   -3469.315377 -3618.162423 -3492.961093 -3588.139992  \n",
      "Lifestyle   -3722.618492 -3890.242349 -3728.899020 -3854.253210  \n",
      "Wirtschaft  -1912.408647 -2260.789192 -2145.924942 -2255.513823  \n",
      "Finanzen    -2814.020245 -3062.143892 -2944.064304 -3131.131751  \n",
      "Lokal       -5142.553948 -5099.482005 -5101.624897 -5284.608688  \n",
      "Politik     -2608.132768 -3544.360013 -3441.479720 -3536.966302  \n",
      "Sport       -4502.423924 -3235.701573 -4369.454629 -4516.734678  \n",
      "Technologie -3873.005249 -3886.345662 -3230.785132 -3874.223953  \n",
      "Kultur      -7119.086612 -7219.710228 -6994.657805 -4786.532306  \n"
     ]
    }
   ],
   "source": [
    "average_scores = []\n",
    "for score_set in scores:\n",
    "    average_scores.append([sum(x) / len(x) for x in score_set])\n",
    "\n",
    "#transpose the array before creating the DataFrame because pandas is row-oriented\n",
    "result = DataFrame(np.transpose(average_scores), category_names, category_names)\n",
    "print(result)"
   ]
  },
  {
   "cell_type": "markdown",
   "metadata": {
    "collapsed": true,
    "slideshow": {
     "slide_type": "slide"
    }
   },
   "source": [
    "## Classification Quality\n",
    "calculate the number of categorizations for every category\n",
    "\n",
    "rows = categories of training set\n",
    "\n",
    "columns = number of items of the train set classified in the category\n",
    "\n",
    "e.g: the highest number in each row should be on the diagonal of the matrix\n",
    "\n",
    "first step is to transpose the model (switch the first two dimensions from model->category to category->model), then numpy.argmax is used to find the index of the model that has the highest score for this category\n",
    "\n",
    "$${ C }_{ i,j }=\\sum { \\begin{cases} 1\\quad if\\quad { S }_{ i,j }\\quad >\\quad \\underset { k\\in { V }\\setminus { V }_{ i } }{ max({ S }_{ k,j }) }  \\\\ 0\\quad otherwise \\end{cases} } $$\n",
    "\n",
    "where:\n",
    "* ${ C }_{ i,j }$ is the number of elements in ${V}_{i}$ that have are classified to ${M}_{i}$\n",
    "* ${ S }_{ i,j }\\quad >\\quad \\underset { k\\in { V }\\setminus { V }_{ i } }{ max({ S }_{ k,j }) } $ is the classification rule that assigns the article to the class that yields the highest score for the model"
   ]
  },
  {
   "cell_type": "code",
   "execution_count": 10,
   "metadata": {
    "ExecuteTime": {
     "end_time": "2017-01-22T18:50:04.004777",
     "start_time": "2017-01-22T18:50:03.985996"
    },
    "collapsed": false,
    "slideshow": {
     "slide_type": "slide"
    }
   },
   "outputs": [
    {
     "name": "stdout",
     "output_type": "stream",
     "text": [
      "             Sonstiges  Lifestyle  Wirtschaft  Finanzen  Lokal  Politik  \\\n",
      "Sonstiges          336         58          19         0      5       19   \n",
      "Lifestyle           18        157          12         2      0        8   \n",
      "Wirtschaft          17         17         417         9      0       19   \n",
      "Finanzen             0          3          35       120      0        0   \n",
      "Lokal               13          7           7         0    106       17   \n",
      "Politik             59         22          71         3      1      730   \n",
      "Sport                3          4           2         0      1        1   \n",
      "Technologie          8          8          17         1      0        1   \n",
      "Kultur              21         31           4         1      0        1   \n",
      "\n",
      "             Sport  Technologie  Kultur  \n",
      "Sonstiges        0            5       5  \n",
      "Lifestyle        0            6       0  \n",
      "Wirtschaft       0           20       3  \n",
      "Finanzen         0            1       0  \n",
      "Lokal            0            0       1  \n",
      "Politik          0            4       0  \n",
      "Sport          249            2       0  \n",
      "Technologie      0          180       1  \n",
      "Kultur           0            5      69  \n"
     ]
    }
   ],
   "source": [
    "classification_matrix = np.empty([num_models, num_models], dtype=int)\n",
    "\n",
    "for category_index in range(num_models):\n",
    "    #transpose the scores array to form [model][category][sentence_score] to [category][model][sentence_score]\n",
    "    category_scores = [model[category_index] for model in scores]\n",
    "    #get the classification matrix in each model\n",
    "    #the values represent the category index they were assigned to\n",
    "    classifications = np.argmax(category_scores, axis = 0)\n",
    "    \n",
    "    #convert the classification matrix to a count of classification in each category\n",
    "    classification_count = [np.sum(classifications == x) for x in range(len(category_names))]\n",
    "    classification_matrix[category_index]=classification_count\n",
    "    \n",
    "result = DataFrame(classification_matrix, category_names, category_names)\n",
    "print(result)   "
   ]
  },
  {
   "cell_type": "markdown",
   "metadata": {
    "slideshow": {
     "slide_type": "slide"
    }
   },
   "source": [
    "## Accuracy\n",
    "\n",
    "Calculate the accuracy matrix. Accuracy is defined as \n",
    "$\\frac { TP +TN }{ total\\ elements }$\n",
    "\n",
    "$${ ACC }_{ i,j }=\\frac { { C }_{ i,j } }{ \\sum { { C }_{ j } }  } $$\n",
    "\n",
    "**Note**:\n",
    "True accuracy measures as per definition are only found on the diagonal of the matrix. The other values are the ratio of false positives in the corresponding category"
   ]
  },
  {
   "cell_type": "code",
   "execution_count": 11,
   "metadata": {
    "ExecuteTime": {
     "end_time": "2017-01-22T18:50:04.025317",
     "start_time": "2017-01-22T18:50:04.006974"
    },
    "collapsed": false,
    "slideshow": {
     "slide_type": "slide"
    }
   },
   "outputs": [
    {
     "name": "stdout",
     "output_type": "stream",
     "text": [
      "             Sonstiges  Lifestyle  Wirtschaft  Finanzen     Lokal   Politik  \\\n",
      "Sonstiges     0.751678   0.129754    0.042506  0.000000  0.011186  0.042506   \n",
      "Lifestyle     0.088670   0.773399    0.059113  0.009852  0.000000  0.039409   \n",
      "Wirtschaft    0.033865   0.033865    0.830677  0.017928  0.000000  0.037849   \n",
      "Finanzen      0.000000   0.018868    0.220126  0.754717  0.000000  0.000000   \n",
      "Lokal         0.086093   0.046358    0.046358  0.000000  0.701987  0.112583   \n",
      "Politik       0.066292   0.024719    0.079775  0.003371  0.001124  0.820225   \n",
      "Sport         0.011450   0.015267    0.007634  0.000000  0.003817  0.003817   \n",
      "Technologie   0.037037   0.037037    0.078704  0.004630  0.000000  0.004630   \n",
      "Kultur        0.159091   0.234848    0.030303  0.007576  0.000000  0.007576   \n",
      "\n",
      "                Sport  Technologie    Kultur  \n",
      "Sonstiges    0.000000     0.011186  0.011186  \n",
      "Lifestyle    0.000000     0.029557  0.000000  \n",
      "Wirtschaft   0.000000     0.039841  0.005976  \n",
      "Finanzen     0.000000     0.006289  0.000000  \n",
      "Lokal        0.000000     0.000000  0.006623  \n",
      "Politik      0.000000     0.004494  0.000000  \n",
      "Sport        0.950382     0.007634  0.000000  \n",
      "Technologie  0.000000     0.833333  0.004630  \n",
      "Kultur       0.000000     0.037879  0.522727  \n"
     ]
    }
   ],
   "source": [
    "# the max(, 1) function surrounding sum makes sure wo don't divide by 0 if no match occurred\n",
    "accuracy_matrix = [category / float(max([sum(category) ,1])) for category in classification_matrix]\n",
    "\n",
    "result = DataFrame(accuracy_matrix, category_names, category_names)\n",
    "print(result) "
   ]
  },
  {
   "cell_type": "markdown",
   "metadata": {
    "collapsed": true
   },
   "source": [
    "calculate the average accuracy of the diagonal to get a accuracy score\n",
    "\n",
    "$$score=\\frac { \\sum _{ i=0 }^{ dim({ V }_{ i }) }{ { ACC }_{ i,i } * dim({ V }_{ i }) }  }{  \\sum _{ i=0 }^{ dim({ V }_{ i }) }{dim({ V }_{ i }) }   } $$\n",
    "\n",
    "This value is comparable with the accuracy validation score of scikitlearn"
   ]
  },
  {
   "cell_type": "code",
   "execution_count": 12,
   "metadata": {
    "ExecuteTime": {
     "end_time": "2017-01-22T18:50:04.032888",
     "start_time": "2017-01-22T18:50:04.027197"
    },
    "collapsed": false
   },
   "outputs": [
    {
     "name": "stdout",
     "output_type": "stream",
     "text": [
      "score: 0.79810938555\n"
     ]
    }
   ],
   "source": [
    "true_positives = 0.0\n",
    "num_samples = 0\n",
    "for x in range(num_models):\n",
    "    true_positives += classification_matrix[x][x]\n",
    "    num_samples += sum(classification_matrix[x])\n",
    "    \n",
    "average_score = true_positives / num_samples\n",
    "\n",
    "print('score: {}'.format(average_score))"
   ]
  },
  {
   "cell_type": "code",
   "execution_count": null,
   "metadata": {
    "collapsed": true
   },
   "outputs": [],
   "source": []
  }
 ],
 "metadata": {
  "kernelspec": {
   "display_name": "Python 2",
   "language": "python",
   "name": "python2"
  },
  "language_info": {
   "codemirror_mode": {
    "name": "ipython",
    "version": 2
   },
   "file_extension": ".py",
   "mimetype": "text/x-python",
   "name": "python",
   "nbconvert_exporter": "python",
   "pygments_lexer": "ipython2",
   "version": "2.7.10"
  }
 },
 "nbformat": 4,
 "nbformat_minor": 1
}
