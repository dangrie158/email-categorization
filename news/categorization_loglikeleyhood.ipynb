{
 "cells": [
  {
   "cell_type": "markdown",
   "metadata": {},
   "source": [
    "# Categorization using log-likelihood of word2vec models"
   ]
  },
  {
   "cell_type": "code",
   "execution_count": 15,
   "metadata": {
    "ExecuteTime": {
     "end_time": "2016-12-17T18:13:22.978742",
     "start_time": "2016-12-17T18:13:22.912886"
    },
    "collapsed": false,
    "slideshow": {
     "slide_type": "slide"
    }
   },
   "outputs": [],
   "source": [
    "from gensim.models import Word2Vec\n",
    "from gensim.models.word2vec import LineSentence\n",
    "from pandas import DataFrame\n",
    "import numpy as np"
   ]
  },
  {
   "cell_type": "markdown",
   "metadata": {
    "slideshow": {
     "slide_type": "slide"
    }
   },
   "source": [
    "construct the file names for the learned models and the validation sets"
   ]
  },
  {
   "cell_type": "code",
   "execution_count": 16,
   "metadata": {
    "ExecuteTime": {
     "end_time": "2016-12-17T18:13:24.414974",
     "start_time": "2016-12-17T18:13:24.377730"
    },
    "collapsed": false,
    "slideshow": {
     "slide_type": "slide"
    }
   },
   "outputs": [],
   "source": [
    "category_names = ['Sonstiges', 'Aktuell', 'Lifestyle', \n",
    "          'Wirtschaft', 'Finanzen', 'Ausland', 'Lokal', \n",
    "          'Politik', 'Sport', 'Technologie', 'Kultur']\n",
    "\n",
    "num_models = len(category_names)\n",
    "model_paths = [\"data/corpus{}+base.word2vec.model\".format(x) for x in category_names]\n",
    "validation_paths = [\"data/corpus{}.validation.txt\".format(x) for x in category_names]"
   ]
  },
  {
   "cell_type": "markdown",
   "metadata": {
    "slideshow": {
     "slide_type": "slide"
    }
   },
   "source": [
    "load the validation sets"
   ]
  },
  {
   "cell_type": "code",
   "execution_count": 17,
   "metadata": {
    "ExecuteTime": {
     "end_time": "2016-12-17T18:13:26.306380",
     "start_time": "2016-12-17T18:13:25.801112"
    },
    "collapsed": false,
    "slideshow": {
     "slide_type": "slide"
    }
   },
   "outputs": [
    {
     "name": "stdout",
     "output_type": "stream",
     "text": [
      "number of articles used for validation:\n",
      "             dim(V_i)\n",
      "Sonstiges         770\n",
      "Aktuell            20\n",
      "Lifestyle         328\n",
      "Wirtschaft        817\n",
      "Finanzen          333\n",
      "Ausland           483\n",
      "Lokal             249\n",
      "Politik          1596\n",
      "Sport             449\n",
      "Technologie       361\n",
      "Kultur            217\n"
     ]
    }
   ],
   "source": [
    "validators = [LineSentence(path) for path in validation_paths]\n",
    "\n",
    "num_validation_entries = [sum([1 for _ in x]) for x in validators]\n",
    "validation_stats = DataFrame(num_validation_entries, category_names, ['dim(V_i)'])\n",
    "print('number of articles used for validation:')\n",
    "print(validation_stats) "
   ]
  },
  {
   "cell_type": "markdown",
   "metadata": {
    "slideshow": {
     "slide_type": "slide"
    }
   },
   "source": [
    "## Validation\n",
    "\n",
    "validate each validation set with all models and calculate the score (log likelihood) of each sentence for each model.\n",
    "\n",
    "scores is an array in the form:\n",
    "\n",
    "    [for each model:\n",
    "        [for each validation set:\n",
    "            [score of each sentence]\n",
    "        ]\n",
    "    ]\n",
    "\n",
    "**Note**:\n",
    "There is no cross validation implemented, since it would require learning the category models ${ M }_{ i }$ on-the-fly which is in the current implementation too needy for memory"
   ]
  },
  {
   "cell_type": "code",
   "execution_count": 18,
   "metadata": {
    "ExecuteTime": {
     "end_time": "2016-12-17T18:13:28.830154",
     "start_time": "2016-12-17T18:13:28.816143"
    },
    "collapsed": false,
    "slideshow": {
     "slide_type": "slide"
    }
   },
   "outputs": [],
   "source": [
    "def get_scores(model_path):\n",
    "    # load the model\n",
    "    print('loading model {}'.format(model_path))\n",
    "    model =  Word2Vec.load(model_path)\n",
    "    # calculate the score (log likelihood) of each validation set for this model\n",
    "    print('validating model...')\n",
    "    scores = [model.score(validator) for validator in validators]\n",
    "    return scores"
   ]
  },
  {
   "cell_type": "markdown",
   "metadata": {
    "slideshow": {
     "slide_type": "slide"
    }
   },
   "source": [
    "main loop that calculates the scores for all models"
   ]
  },
  {
   "cell_type": "code",
   "execution_count": 21,
   "metadata": {
    "ExecuteTime": {
     "end_time": "2016-12-17T18:34:57.171884",
     "start_time": "2016-12-17T18:24:41.253045"
    },
    "collapsed": false,
    "slideshow": {
     "slide_type": "slide"
    }
   },
   "outputs": [
    {
     "name": "stdout",
     "output_type": "stream",
     "text": [
      "loading model data/corpusSonstiges+base.word2vec.model\n",
      "validating model...\n",
      "loading model data/corpusAktuell+base.word2vec.model\n",
      "validating model...\n",
      "loading model data/corpusLifestyle+base.word2vec.model\n",
      "validating model...\n",
      "loading model data/corpusWirtschaft+base.word2vec.model\n",
      "validating model...\n",
      "loading model data/corpusFinanzen+base.word2vec.model\n",
      "validating model...\n",
      "loading model data/corpusAusland+base.word2vec.model\n",
      "validating model...\n",
      "loading model data/corpusLokal+base.word2vec.model\n",
      "validating model...\n",
      "loading model data/corpusPolitik+base.word2vec.model\n",
      "validating model...\n",
      "loading model data/corpusSport+base.word2vec.model\n",
      "validating model...\n",
      "loading model data/corpusTechnologie+base.word2vec.model\n",
      "validating model...\n",
      "loading model data/corpusKultur+base.word2vec.model\n",
      "validating model...\n"
     ]
    }
   ],
   "source": [
    "#container to hold the calculated scores\n",
    "scores = []\n",
    "\n",
    "for model in model_paths:\n",
    "    model_scores = get_scores(model)\n",
    "    scores.append(model_scores)"
   ]
  },
  {
   "cell_type": "markdown",
   "metadata": {
    "slideshow": {
     "slide_type": "slide"
    }
   },
   "source": [
    "## Log Likelihood\n",
    "\n",
    "output the average score (log likelihood) of all sentences in a validation set for one model\n",
    "\n",
    "row = average likelihood that an item of this category is generated by the model in the row\n",
    "\n",
    "e.g: the lowest value in each column is the category a sentence of this model is most likely classified to\n",
    "\n",
    "$$ { S }_{ i,j }=\\frac { \\sum _{ s=1 }^{ dim({ V }_{ i }) }{ score({ S(V }_{ i },\\quad s),\\quad { M }_{ j }) }  }{ dim({ V }_{ i }) } $$\n",
    "\n",
    "where:\n",
    "* ${ V }_{ i } $ is the validationset for category $i$\n",
    "* ${ M }_{ i } $ is the model trained for category $i$\n",
    "* ${ S }_{ i,j }$ is the score ($i$ is the column, $j$ is the row in the table)\n",
    "* $S({V}_{i}, x)$ is the $x$th sentence in the validation set ${V}_{i}$\n",
    "* $dim({ V }_{ i })$ is the number of elements in the validation set\n",
    "* $score(s, m)$ is the log-likelihood that the word is generated by the model [[Taddy, Matt. Document Classification by Inversion of Distributed Language Representations](https://arxiv.org/pdf/1504.07295.pdf)]\n"
   ]
  },
  {
   "cell_type": "code",
   "execution_count": 22,
   "metadata": {
    "ExecuteTime": {
     "end_time": "2016-12-17T18:36:22.909980",
     "start_time": "2016-12-17T18:36:22.832524"
    },
    "collapsed": false,
    "slideshow": {
     "slide_type": "slide"
    }
   },
   "outputs": [
    {
     "name": "stdout",
     "output_type": "stream",
     "text": [
      "               Sonstiges      Aktuell    Lifestyle   Wirtschaft     Finanzen  \\\n",
      "Sonstiges   -3023.305563 -3591.851440 -3316.458243 -3458.459421 -3502.693819   \n",
      "Aktuell     -3406.847200 -3478.971946 -3452.729374 -3400.865962 -3605.820707   \n",
      "Lifestyle   -3470.167490 -3697.053330 -3230.019704 -3379.121821 -3694.238708   \n",
      "Wirtschaft  -2255.291836 -2371.583910 -2080.033885 -1850.201417 -2273.048428   \n",
      "Finanzen    -2819.153567 -3333.887122 -3010.546884 -2862.410102 -2414.655164   \n",
      "Ausland     -2153.040332 -2278.715084 -2212.477327 -2172.399341 -2328.481654   \n",
      "Lokal       -5072.434925 -5768.085391 -5172.428481 -5601.607124 -5249.026092   \n",
      "Politik     -3259.656002 -3642.098892 -3270.765876 -3251.658240 -3473.375445   \n",
      "Sport       -4126.546658 -4519.755654 -4262.982045 -4460.560663 -4381.310551   \n",
      "Technologie -3697.492521 -3914.482529 -3691.743123 -3755.177561 -3831.746594   \n",
      "Kultur      -9062.581682 -9565.431608 -9165.819357 -9754.343478 -9762.327799   \n",
      "\n",
      "                 Ausland        Lokal      Politik        Sport  Technologie  \\\n",
      "Sonstiges   -3445.528866 -3505.015840 -3379.924037 -3522.187860 -3398.669042   \n",
      "Aktuell     -3414.723980 -3627.521182 -3526.754999 -3675.717569 -3477.358829   \n",
      "Lifestyle   -3586.070480 -3715.646034 -3449.871508 -3675.448228 -3533.370444   \n",
      "Wirtschaft  -2285.296778 -2399.692025 -2053.638446 -2410.441619 -2282.837630   \n",
      "Finanzen    -3239.662473 -3275.942700 -2810.082474 -3084.442941 -2969.477116   \n",
      "Ausland     -1960.878190 -2268.225285 -2030.766111 -2355.511336 -2262.395250   \n",
      "Lokal       -5560.597921 -3597.520388 -5268.041963 -5126.760869 -5165.527470   \n",
      "Politik     -3376.662722 -3537.727668 -2677.870403 -3575.539200 -3463.818701   \n",
      "Sport       -4449.654632 -4225.625471 -4358.160572 -3246.637112 -4242.314711   \n",
      "Technologie -3841.426244 -3912.820028 -3881.311316 -3912.132513 -3425.718507   \n",
      "Kultur      -9666.821604 -9793.236392 -9502.000836 -9660.519725 -9371.441661   \n",
      "\n",
      "                  Kultur  \n",
      "Sonstiges   -3492.243594  \n",
      "Aktuell     -3638.509306  \n",
      "Lifestyle   -3649.240762  \n",
      "Wirtschaft  -2402.273746  \n",
      "Finanzen    -3177.670412  \n",
      "Ausland     -2276.201234  \n",
      "Lokal       -5354.149361  \n",
      "Politik     -3572.767868  \n",
      "Sport       -4374.986282  \n",
      "Technologie -3884.793006  \n",
      "Kultur      -6192.573605  \n"
     ]
    }
   ],
   "source": [
    "average_scores = []\n",
    "for score_set in scores:\n",
    "    average_scores.append([sum(x) / len(x) for x in score_set])\n",
    "\n",
    "#transpose the array before creating the DataFrame because pandas is row-oriented\n",
    "result = DataFrame(np.transpose(average_scores), category_names, category_names)\n",
    "print(result)"
   ]
  },
  {
   "cell_type": "markdown",
   "metadata": {
    "collapsed": true,
    "slideshow": {
     "slide_type": "slide"
    }
   },
   "source": [
    "## Classification Quality\n",
    "calculate the number of categorizations for every category\n",
    "\n",
    "rows = categories of training set\n",
    "\n",
    "columns = number of items of the train set classified in the category\n",
    "\n",
    "e.g: the highest number in each row should be on the diagonal of the matrix\n",
    "\n",
    "first step is to transpose the model (switch the first two dimensions from model->category to category->model), then numpy.argmax is used to find the index of the model that has the highest score for this category\n",
    "\n",
    "$${ C }_{ i,j }=\\sum { \\begin{cases} 1\\quad if\\quad { S }_{ i,j }\\quad >\\quad \\underset { k\\in { V }\\setminus { V }_{ i } }{ max({ S }_{ k,j }) }  \\\\ 0\\quad otherwise \\end{cases} } $$\n",
    "\n",
    "where:\n",
    "* ${ C }_{ i,j }$ is the number of elements in ${V}_{i}$ that have are classified to ${M}_{i}$\n",
    "* ${ S }_{ i,j }\\quad >\\quad \\underset { k\\in { V }\\setminus { V }_{ i } }{ max({ S }_{ k,j }) } $ is the classification rule that assigns the article to the class that yields the highest score for the model"
   ]
  },
  {
   "cell_type": "code",
   "execution_count": 23,
   "metadata": {
    "ExecuteTime": {
     "end_time": "2016-12-17T18:36:25.485722",
     "start_time": "2016-12-17T18:36:25.436804"
    },
    "collapsed": false,
    "slideshow": {
     "slide_type": "slide"
    }
   },
   "outputs": [
    {
     "name": "stdout",
     "output_type": "stream",
     "text": [
      "             Sonstiges  Aktuell  Lifestyle  Wirtschaft  Finanzen  Ausland  \\\n",
      "Sonstiges          422        1        151          30        10       57   \n",
      "Aktuell              4        1          2           7         0        3   \n",
      "Lifestyle           50        0        179          29         6       13   \n",
      "Wirtschaft          27        1         52         575        66       28   \n",
      "Finanzen             9        0          9          97       208        4   \n",
      "Ausland             24        1         10          30         4      260   \n",
      "Lokal               20        0         11          21         1       11   \n",
      "Politik             88        1         40         106        11      247   \n",
      "Sport               12        2          2           9         2        2   \n",
      "Technologie         13        2         30          25         3       12   \n",
      "Kultur              41        1         57           6         2       16   \n",
      "\n",
      "             Lokal  Politik  Sport  Technologie  Kultur  \n",
      "Sonstiges       10       43      5           19      22  \n",
      "Aktuell          0        1      0            2       0  \n",
      "Lifestyle        0       22      4           16       9  \n",
      "Wirtschaft       2       22      1           41       2  \n",
      "Finanzen         0        1      0            5       0  \n",
      "Ausland          0      148      1            3       2  \n",
      "Lokal          149       30      0            5       1  \n",
      "Politik          7     1084      0           11       1  \n",
      "Sport            1        0    418            1       0  \n",
      "Technologie      0        7      0          262       7  \n",
      "Kultur           1        1      2           17      73  \n"
     ]
    }
   ],
   "source": [
    "classification_matrix = np.empty([num_models, num_models], dtype=int)\n",
    "\n",
    "for category_index in range(num_models):\n",
    "    #transpose the scores array to form [model][category][sentence_score] to [category][model][sentence_score]\n",
    "    category_scores = [model[category_index] for model in scores]\n",
    "    #get the classification matrix in each model\n",
    "    #the values represent the category index they were assigned to\n",
    "    classifications = np.argmax(category_scores, axis = 0)\n",
    "    \n",
    "    #convert the classification matrix to a count of classification in each category\n",
    "    classification_count = [np.sum(classifications == x) for x in range(len(category_names))]\n",
    "    classification_matrix[category_index]=classification_count\n",
    "    \n",
    "result = DataFrame(classification_matrix, category_names, category_names)\n",
    "print(result)   "
   ]
  },
  {
   "cell_type": "markdown",
   "metadata": {
    "slideshow": {
     "slide_type": "slide"
    }
   },
   "source": [
    "## Accuracy\n",
    "\n",
    "Calculate the accuracy matrix. Accuracy is defined as \n",
    "$\\frac { TP +TN }{ total\\ elements }$\n",
    "\n",
    "$${ ACC }_{ i,j }=\\frac { { C }_{ i,j } }{ \\sum { { C }_{ j } }  } $$\n",
    "\n",
    "**Note**:\n",
    "True accuracy measures as per definition are only found on the diagonal of the matrix. The other values are the ratio of false positives in the corresponding category"
   ]
  },
  {
   "cell_type": "code",
   "execution_count": 24,
   "metadata": {
    "ExecuteTime": {
     "end_time": "2016-12-17T18:36:27.006125",
     "start_time": "2016-12-17T18:36:26.975342"
    },
    "collapsed": false,
    "slideshow": {
     "slide_type": "slide"
    }
   },
   "outputs": [
    {
     "name": "stdout",
     "output_type": "stream",
     "text": [
      "             Sonstiges   Aktuell  Lifestyle  Wirtschaft  Finanzen   Ausland  \\\n",
      "Sonstiges     0.548052  0.001299   0.196104    0.038961  0.012987  0.074026   \n",
      "Aktuell       0.200000  0.050000   0.100000    0.350000  0.000000  0.150000   \n",
      "Lifestyle     0.152439  0.000000   0.545732    0.088415  0.018293  0.039634   \n",
      "Wirtschaft    0.033048  0.001224   0.063647    0.703794  0.080783  0.034272   \n",
      "Finanzen      0.027027  0.000000   0.027027    0.291291  0.624625  0.012012   \n",
      "Ausland       0.049689  0.002070   0.020704    0.062112  0.008282  0.538302   \n",
      "Lokal         0.080321  0.000000   0.044177    0.084337  0.004016  0.044177   \n",
      "Politik       0.055138  0.000627   0.025063    0.066416  0.006892  0.154762   \n",
      "Sport         0.026726  0.004454   0.004454    0.020045  0.004454  0.004454   \n",
      "Technologie   0.036011  0.005540   0.083102    0.069252  0.008310  0.033241   \n",
      "Kultur        0.188940  0.004608   0.262673    0.027650  0.009217  0.073733   \n",
      "\n",
      "                Lokal   Politik     Sport  Technologie    Kultur  \n",
      "Sonstiges    0.012987  0.055844  0.006494     0.024675  0.028571  \n",
      "Aktuell      0.000000  0.050000  0.000000     0.100000  0.000000  \n",
      "Lifestyle    0.000000  0.067073  0.012195     0.048780  0.027439  \n",
      "Wirtschaft   0.002448  0.026928  0.001224     0.050184  0.002448  \n",
      "Finanzen     0.000000  0.003003  0.000000     0.015015  0.000000  \n",
      "Ausland      0.000000  0.306418  0.002070     0.006211  0.004141  \n",
      "Lokal        0.598394  0.120482  0.000000     0.020080  0.004016  \n",
      "Politik      0.004386  0.679198  0.000000     0.006892  0.000627  \n",
      "Sport        0.002227  0.000000  0.930958     0.002227  0.000000  \n",
      "Technologie  0.000000  0.019391  0.000000     0.725762  0.019391  \n",
      "Kultur       0.004608  0.004608  0.009217     0.078341  0.336406  \n"
     ]
    }
   ],
   "source": [
    "# the max(, 1) function surrounding sum makes sure wo don't divide by 0 if no match occurred\n",
    "accuracy_matrix = [category / float(max([sum(category) ,1])) for category in classification_matrix]\n",
    "\n",
    "result = DataFrame(accuracy_matrix, category_names, category_names)\n",
    "print(result) "
   ]
  },
  {
   "cell_type": "markdown",
   "metadata": {
    "collapsed": true
   },
   "source": [
    "calculate the average accuracy of the diagonal to get a accuracy score\n",
    "\n",
    "$$score=\\frac { \\sum _{ i }^{ dim({ V }_{ i }) }{ { ACC }_{ i,i } }  }{ dim({ V }_{ i }) } $$\n",
    "\n",
    "This value is comparable with the accuracy validation score of scikitlearn"
   ]
  },
  {
   "cell_type": "code",
   "execution_count": 27,
   "metadata": {
    "ExecuteTime": {
     "end_time": "2016-12-18T00:41:08.804141",
     "start_time": "2016-12-18T00:41:08.777970"
    },
    "collapsed": false
   },
   "outputs": [
    {
     "name": "stdout",
     "output_type": "stream",
     "text": [
      "score: 0.645740707807\n"
     ]
    }
   ],
   "source": [
    "true_positives = 0.0\n",
    "num_samples = 0\n",
    "for x in range(num_models):\n",
    "    true_positives += classification_matrix[x][x]\n",
    "    num_samples += sum(classification_matrix[x])\n",
    "    \n",
    "average_score = true_positives / num_samples\n",
    "\n",
    "print('score: {}'.format(average_score))"
   ]
  },
  {
   "cell_type": "code",
   "execution_count": null,
   "metadata": {
    "collapsed": true
   },
   "outputs": [],
   "source": []
  }
 ],
 "metadata": {
  "kernelspec": {
   "display_name": "Python 2",
   "language": "python",
   "name": "python2"
  },
  "language_info": {
   "codemirror_mode": {
    "name": "ipython",
    "version": 2
   },
   "file_extension": ".py",
   "mimetype": "text/x-python",
   "name": "python",
   "nbconvert_exporter": "python",
   "pygments_lexer": "ipython2",
   "version": "2.7.10"
  }
 },
 "nbformat": 4,
 "nbformat_minor": 1
}
