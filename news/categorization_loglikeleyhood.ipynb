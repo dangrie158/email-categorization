{
 "cells": [
  {
   "cell_type": "code",
   "execution_count": 11,
   "metadata": {
    "ExecuteTime": {
     "end_time": "2016-12-12T21:03:17.207827",
     "start_time": "2016-12-12T21:03:17.204224"
    },
    "collapsed": false,
    "slideshow": {
     "slide_type": "slide"
    }
   },
   "outputs": [],
   "source": [
    "from gensim.models import Word2Vec\n",
    "from gensim.models.word2vec import LineSentence\n",
    "from pandas import DataFrame\n",
    "import numpy as np"
   ]
  },
  {
   "cell_type": "markdown",
   "metadata": {
    "slideshow": {
     "slide_type": "slide"
    }
   },
   "source": [
    "construct the file names for the learned models and the validation sets"
   ]
  },
  {
   "cell_type": "code",
   "execution_count": 12,
   "metadata": {
    "ExecuteTime": {
     "end_time": "2016-12-12T21:03:23.606324",
     "start_time": "2016-12-12T21:03:23.601733"
    },
    "collapsed": false,
    "slideshow": {
     "slide_type": "slide"
    }
   },
   "outputs": [],
   "source": [
    "model_names = ['Sonstiges', 'Aktuell', 'Lifestyle', \n",
    "          'Wirtschaft', 'Finanzen', 'Ausland', 'Lokal', \n",
    "          'Politik', 'Sport', 'Technologie', 'Kultur']\n",
    "\n",
    "num_models = len(model_names)\n",
    "model_paths = [\"data/corpus{}+base.word2vec.model\".format(x) for x in model_names]\n",
    "validation_paths = [\"data/corpus{}.validation.txt\".format(x) for x in model_names]"
   ]
  },
  {
   "cell_type": "markdown",
   "metadata": {
    "slideshow": {
     "slide_type": "slide"
    }
   },
   "source": [
    "load the validation sets"
   ]
  },
  {
   "cell_type": "code",
   "execution_count": 13,
   "metadata": {
    "ExecuteTime": {
     "end_time": "2016-12-12T21:03:28.053215",
     "start_time": "2016-12-12T21:03:28.049992"
    },
    "collapsed": true,
    "slideshow": {
     "slide_type": "slide"
    }
   },
   "outputs": [],
   "source": [
    "validators = [LineSentence(path) for path in validation_paths]"
   ]
  },
  {
   "cell_type": "markdown",
   "metadata": {
    "slideshow": {
     "slide_type": "slide"
    }
   },
   "source": [
    "# Validation\n",
    "\n",
    "validate each validation set with all models and calculate the score (log likelihood) of each sentence for each model.\n",
    "\n",
    "scores is an array in the form:\n",
    "\n",
    "    [for each model:\n",
    "        [for each validation set:\n",
    "            [score of each sentence]\n",
    "        ]\n",
    "    ]"
   ]
  },
  {
   "cell_type": "code",
   "execution_count": 14,
   "metadata": {
    "ExecuteTime": {
     "end_time": "2016-12-12T21:03:32.699634",
     "start_time": "2016-12-12T21:03:32.694688"
    },
    "collapsed": false,
    "slideshow": {
     "slide_type": "slide"
    }
   },
   "outputs": [],
   "source": [
    "def get_scores(model_path):\n",
    "    # load the model\n",
    "    print('loading model {}'.format(model_path))\n",
    "    model =  Word2Vec.load(model_path)\n",
    "    # calculate the score (log likelihood) of each validation set for this model\n",
    "    print('validating model...')\n",
    "    scores = [model.score(validator) for validator in validators]\n",
    "    return scores"
   ]
  },
  {
   "cell_type": "markdown",
   "metadata": {
    "slideshow": {
     "slide_type": "slide"
    }
   },
   "source": [
    "main loop that calculates the scores for all models"
   ]
  },
  {
   "cell_type": "code",
   "execution_count": 15,
   "metadata": {
    "ExecuteTime": {
     "end_time": "2016-12-12T21:13:03.736533",
     "start_time": "2016-12-12T21:03:36.945885"
    },
    "collapsed": false,
    "slideshow": {
     "slide_type": "slide"
    }
   },
   "outputs": [
    {
     "name": "stdout",
     "output_type": "stream",
     "text": [
      "loading model data/corpusSonstiges+base.word2vec.model\n",
      "validating model...\n",
      "loading model data/corpusAktuell+base.word2vec.model\n",
      "validating model...\n",
      "loading model data/corpusLifestyle+base.word2vec.model\n",
      "validating model...\n",
      "loading model data/corpusWirtschaft+base.word2vec.model\n",
      "validating model...\n",
      "loading model data/corpusFinanzen+base.word2vec.model\n",
      "validating model...\n",
      "loading model data/corpusAusland+base.word2vec.model\n",
      "validating model...\n",
      "loading model data/corpusLokal+base.word2vec.model\n",
      "validating model...\n",
      "loading model data/corpusPolitik+base.word2vec.model\n",
      "validating model...\n",
      "loading model data/corpusSport+base.word2vec.model\n",
      "validating model...\n",
      "loading model data/corpusTechnologie+base.word2vec.model\n",
      "validating model...\n",
      "loading model data/corpusKultur+base.word2vec.model\n",
      "validating model...\n"
     ]
    }
   ],
   "source": [
    "#container to hold the calculated scores\n",
    "scores = []\n",
    "\n",
    "for model in model_paths:\n",
    "    model_scores = get_scores(model)\n",
    "    scores.append(model_scores)"
   ]
  },
  {
   "cell_type": "markdown",
   "metadata": {
    "slideshow": {
     "slide_type": "slide"
    }
   },
   "source": [
    "# Log Likelihood\n",
    "\n",
    "output the average score (log likelihood) of all sentences in a validation set for one model\n",
    "\n",
    "row = average likelihood that an item of this category is generated by the model in the row\n",
    "\n",
    "e.g: the lowest value in each column is the category a sentence of this model is most likely classified to"
   ]
  },
  {
   "cell_type": "code",
   "execution_count": 16,
   "metadata": {
    "ExecuteTime": {
     "end_time": "2016-12-12T21:14:01.083998",
     "start_time": "2016-12-12T21:14:01.032775"
    },
    "collapsed": false,
    "slideshow": {
     "slide_type": "slide"
    }
   },
   "outputs": [
    {
     "name": "stdout",
     "output_type": "stream",
     "text": [
      "               Sonstiges      Aktuell    Lifestyle   Wirtschaft     Finanzen  \\\n",
      "Sonstiges   -3325.388849 -4051.485363 -3779.714496 -3927.573504 -3983.312528   \n",
      "Aktuell     -2781.446618 -2859.790542 -2819.763587 -2798.698792 -2933.390316   \n",
      "Lifestyle   -3400.145797 -3625.067260 -3197.680930 -3378.521383 -3654.712815   \n",
      "Wirtschaft  -2279.561870 -2357.683867 -2137.304999 -1903.845588 -2280.090361   \n",
      "Finanzen    -2994.836114 -3446.413571 -3134.862014 -2998.078684 -2566.185452   \n",
      "Ausland     -1971.585375 -2067.931050 -2031.573275 -1994.008609 -2125.969119   \n",
      "Lokal       -4569.039392 -5141.734328 -4660.747572 -5070.361464 -4758.087463   \n",
      "Politik     -3311.139584 -3631.725968 -3318.819777 -3315.297906 -3493.275739   \n",
      "Sport       -3976.421223 -4321.111574 -4077.288453 -4277.969966 -4276.502763   \n",
      "Technologie -3563.286074 -3741.564945 -3590.740977 -3625.159370 -3687.282498   \n",
      "Kultur      -7991.894719 -8471.777363 -8127.494379 -8513.776776 -8656.303435   \n",
      "\n",
      "                 Ausland        Lokal      Politik        Sport  Technologie  \\\n",
      "Sonstiges   -3904.442297 -3959.071908 -3855.680458 -3968.897624 -3884.916369   \n",
      "Aktuell     -2810.950368 -2956.626866 -2841.538499 -2938.646657 -2847.946203   \n",
      "Lifestyle   -3542.691693 -3646.692196 -3422.383914 -3606.502288 -3498.859264   \n",
      "Wirtschaft  -2290.783951 -2404.550029 -2117.529647 -2418.514701 -2318.170290   \n",
      "Finanzen    -3372.311522 -3394.595736 -2944.303429 -3217.607122 -3177.946074   \n",
      "Ausland     -1784.463296 -2069.007810 -1860.680530 -2124.265849 -2082.570548   \n",
      "Lokal       -5024.957401 -3305.034866 -4737.475041 -4583.150588 -4766.429396   \n",
      "Politik     -3397.531376 -3577.702338 -2697.490767 -3577.411333 -3510.393916   \n",
      "Sport       -4265.847369 -4103.277586 -4207.239893 -3230.096790 -4162.778053   \n",
      "Technologie -3715.338676 -3739.863142 -3726.377077 -3724.559197 -3341.805116   \n",
      "Kultur      -8608.114766 -8563.257602 -8348.325426 -8575.654647 -8304.476981   \n",
      "\n",
      "                  Kultur  \n",
      "Sonstiges   -4105.485564  \n",
      "Aktuell     -3080.721019  \n",
      "Lifestyle   -3690.362620  \n",
      "Wirtschaft  -2522.809882  \n",
      "Finanzen    -3493.361378  \n",
      "Ausland     -2152.369781  \n",
      "Lokal       -4981.066972  \n",
      "Politik     -3731.699089  \n",
      "Sport       -4332.506908  \n",
      "Technologie -3855.746683  \n",
      "Kultur      -5811.379953  \n"
     ]
    }
   ],
   "source": [
    "average_scores = []\n",
    "for score_set in scores:\n",
    "    average_scores.append([sum(x) / len(x) for x in score_set])\n",
    "\n",
    "#transpose the array before creating the DataFrame because pandas is row-oriented\n",
    "result = DataFrame(np.transpose(average_scores), model_names, model_names)\n",
    "print(result)"
   ]
  },
  {
   "cell_type": "markdown",
   "metadata": {
    "collapsed": true,
    "slideshow": {
     "slide_type": "slide"
    }
   },
   "source": [
    "# Classification Quality\n",
    "calculate the number of categorizations for every category\n",
    "\n",
    "rows = categories of training set\n",
    "\n",
    "columns = number of items of the train set classified in the category\n",
    "\n",
    "e.g: the highest number in each row should be on the diagonal of the matrix\n",
    "\n",
    "first step is to transpose the model (switch the first two dimensions from model->category to category->model), then numpy.argmax is used to find the index of the model that has the highest score for this category"
   ]
  },
  {
   "cell_type": "code",
   "execution_count": 17,
   "metadata": {
    "ExecuteTime": {
     "end_time": "2016-12-12T21:14:03.983455",
     "start_time": "2016-12-12T21:14:03.931391"
    },
    "collapsed": false,
    "slideshow": {
     "slide_type": "slide"
    }
   },
   "outputs": [
    {
     "name": "stdout",
     "output_type": "stream",
     "text": [
      "             Sonstiges  Aktuell  Lifestyle  Wirtschaft  Finanzen  Ausland  \\\n",
      "Sonstiges          344        2         86          28        11       66   \n",
      "Aktuell              4        1          0           4         0        2   \n",
      "Lifestyle           62        2        138          20         2       12   \n",
      "Wirtschaft          21        0         42         474        57       30   \n",
      "Finanzen             8        1         12          85       157        7   \n",
      "Ausland             24        1          6          16         1      220   \n",
      "Lokal               21        1          7          14         0        8   \n",
      "Politik             70        1         24          77         8      243   \n",
      "Sport               12        0          6           4         0        6   \n",
      "Technologie         13        2         28          30         4       11   \n",
      "Kultur              46        1         34           8         1       10   \n",
      "\n",
      "             Lokal  Politik  Sport  Technologie  Kultur  \n",
      "Sonstiges        6       35      6           19       7  \n",
      "Aktuell          0        3      2            2       0  \n",
      "Lifestyle        3        9      1            8       6  \n",
      "Wirtschaft       1       26      1           36       0  \n",
      "Finanzen         2        2      2            1       1  \n",
      "Ausland         10      115      1            3       2  \n",
      "Lokal          107       28      3            1       2  \n",
      "Politik          4      841      0            4       1  \n",
      "Sport            2        1    330            0       1  \n",
      "Technologie      1        2      0          192       1  \n",
      "Kultur           2        1      0           10      51  \n"
     ]
    }
   ],
   "source": [
    "classification_matrix = np.empty([num_models, num_models], dtype=int)\n",
    "\n",
    "for category_index in range(num_models):\n",
    "    #transpose the scores array to form [model][category][sentence_score] to [category][model][sentence_score]\n",
    "    category_scores = [model[category_index] for model in scores]\n",
    "    #get the classification matrix in each model\n",
    "    #the values represent the category index they were assigned to\n",
    "    classifications = np.argmax(category_scores, axis = 0)\n",
    "    \n",
    "    #convert the classification matrix to a count of classification in each category\n",
    "    classification_count = [np.sum(classifications == x) for x in range(len(model_names))]\n",
    "    classification_matrix[category_index]=classification_count\n",
    "    \n",
    "result = DataFrame(classification_matrix, model_names, model_names)\n",
    "print(result)   "
   ]
  },
  {
   "cell_type": "markdown",
   "metadata": {
    "slideshow": {
     "slide_type": "slide"
    }
   },
   "source": [
    "# Accuracy\n",
    "\n",
    "calculate the accuracy matrix"
   ]
  },
  {
   "cell_type": "code",
   "execution_count": 18,
   "metadata": {
    "ExecuteTime": {
     "end_time": "2016-12-12T21:14:05.894982",
     "start_time": "2016-12-12T21:14:05.867836"
    },
    "collapsed": false,
    "slideshow": {
     "slide_type": "slide"
    }
   },
   "outputs": [
    {
     "name": "stdout",
     "output_type": "stream",
     "text": [
      "             Sonstiges   Aktuell  Lifestyle  Wirtschaft  Finanzen   Ausland  \\\n",
      "Sonstiges     0.563934  0.003279   0.140984    0.045902  0.018033  0.108197   \n",
      "Aktuell       0.222222  0.055556   0.000000    0.222222  0.000000  0.111111   \n",
      "Lifestyle     0.235741  0.007605   0.524715    0.076046  0.007605  0.045627   \n",
      "Wirtschaft    0.030523  0.000000   0.061047    0.688953  0.082849  0.043605   \n",
      "Finanzen      0.028777  0.003597   0.043165    0.305755  0.564748  0.025180   \n",
      "Ausland       0.060150  0.002506   0.015038    0.040100  0.002506  0.551378   \n",
      "Lokal         0.109375  0.005208   0.036458    0.072917  0.000000  0.041667   \n",
      "Politik       0.054988  0.000786   0.018853    0.060487  0.006284  0.190888   \n",
      "Sport         0.033149  0.000000   0.016575    0.011050  0.000000  0.016575   \n",
      "Technologie   0.045775  0.007042   0.098592    0.105634  0.014085  0.038732   \n",
      "Kultur        0.280488  0.006098   0.207317    0.048780  0.006098  0.060976   \n",
      "\n",
      "                Lokal   Politik     Sport  Technologie    Kultur  \n",
      "Sonstiges    0.009836  0.057377  0.009836     0.031148  0.011475  \n",
      "Aktuell      0.000000  0.166667  0.111111     0.111111  0.000000  \n",
      "Lifestyle    0.011407  0.034221  0.003802     0.030418  0.022814  \n",
      "Wirtschaft   0.001453  0.037791  0.001453     0.052326  0.000000  \n",
      "Finanzen     0.007194  0.007194  0.007194     0.003597  0.003597  \n",
      "Ausland      0.025063  0.288221  0.002506     0.007519  0.005013  \n",
      "Lokal        0.557292  0.145833  0.015625     0.005208  0.010417  \n",
      "Politik      0.003142  0.660644  0.000000     0.003142  0.000786  \n",
      "Sport        0.005525  0.002762  0.911602     0.000000  0.002762  \n",
      "Technologie  0.003521  0.007042  0.000000     0.676056  0.003521  \n",
      "Kultur       0.012195  0.006098  0.000000     0.060976  0.310976  \n"
     ]
    }
   ],
   "source": [
    "accuracy_matrix = [category / float(sum(category)) for category in classification_matrix]\n",
    "\n",
    "result = DataFrame(accuracy_matrix, model_names, model_names)\n",
    "print(result)  "
   ]
  },
  {
   "cell_type": "code",
   "execution_count": null,
   "metadata": {
    "collapsed": true
   },
   "outputs": [],
   "source": []
  }
 ],
 "metadata": {
  "kernelspec": {
   "display_name": "Python 2",
   "language": "python",
   "name": "python2"
  },
  "language_info": {
   "codemirror_mode": {
    "name": "ipython",
    "version": 2
   },
   "file_extension": ".py",
   "mimetype": "text/x-python",
   "name": "python",
   "nbconvert_exporter": "python",
   "pygments_lexer": "ipython2",
   "version": "2.7.10"
  }
 },
 "nbformat": 4,
 "nbformat_minor": 1
}
