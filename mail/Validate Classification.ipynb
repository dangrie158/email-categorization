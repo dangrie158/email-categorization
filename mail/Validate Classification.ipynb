{
 "cells": [
  {
   "cell_type": "code",
   "execution_count": 1,
   "metadata": {
    "collapsed": false
   },
   "outputs": [
    {
     "name": "stderr",
     "output_type": "stream",
     "text": [
      "/Users/daniel/Library/Python/2.7/lib/python/site-packages/gensim/utils.py:1015: UserWarning: Pattern library is not installed, lemmatization won't be available.\n",
      "  warnings.warn(\"Pattern library is not installed, lemmatization won't be available.\")\n"
     ]
    }
   ],
   "source": [
    "from gensim.models import Word2Vec\n",
    "from gensim.models.word2vec import LineSentence\n",
    "#for timing\n",
    "import time"
   ]
  },
  {
   "cell_type": "code",
   "execution_count": 2,
   "metadata": {
    "collapsed": false
   },
   "outputs": [
    {
     "name": "stdout",
     "output_type": "stream",
     "text": [
      "loading HdM model\n",
      "loading Non-HdM model\n",
      "loading time: 93.8960778713s\n"
     ]
    }
   ],
   "source": [
    "start = time.time()\n",
    "print('loading HdM model')\n",
    "hdm_base = Word2Vec.load('data/hdm+base.word2vec.model')\n",
    "print('loading Non-HdM model')\n",
    "nonhdm_base = Word2Vec.load('data/non-hdm+base.word2vec.model')\n",
    "\n",
    "end = time.time()\n",
    "\n",
    "print('loading time: {}s'.format(end - start))"
   ]
  },
  {
   "cell_type": "code",
   "execution_count": 3,
   "metadata": {
    "collapsed": false
   },
   "outputs": [
    {
     "name": "stdout",
     "output_type": "stream",
     "text": [
      "loading validation sets\n"
     ]
    }
   ],
   "source": [
    "print('loading validation sets')\n",
    "hdmvalidator = LineSentence('data/hdm.validation.txt')\n",
    "nonhdmvalidator = LineSentence('data/non-hdm.validation.txt')"
   ]
  },
  {
   "cell_type": "code",
   "execution_count": 4,
   "metadata": {
    "collapsed": false
   },
   "outputs": [
    {
     "name": "stdout",
     "output_type": "stream",
     "text": [
      "calculating scores\n",
      "\n"
     ]
    }
   ],
   "source": [
    "print('calculating scores')\n",
    "scoreset = [\n",
    "    ('HdM + Base     ->     HdM', hdm_base.score(hdmvalidator)),\n",
    "    ('HdM + Base     -> Non-HdM', hdm_base.score(nonhdmvalidator)),\n",
    "    ('Non-HdM + Base ->     HdM', nonhdm_base.score(hdmvalidator)),\n",
    "    ('Non-HdM + Base -> Non-HdM', nonhdm_base.score(nonhdmvalidator))\n",
    "]\n",
    "print('')"
   ]
  },
  {
   "cell_type": "code",
   "execution_count": 5,
   "metadata": {
    "collapsed": false
   },
   "outputs": [
    {
     "name": "stdout",
     "output_type": "stream",
     "text": [
      "HdM + Base     ->     HdM:\t-1380.02194973\n",
      "HdM + Base     -> Non-HdM:\t-3968.87736285\n",
      "Non-HdM + Base ->     HdM:\t-1949.90547005\n",
      "Non-HdM + Base -> Non-HdM:\t-2322.33345091\n",
      "\n"
     ]
    }
   ],
   "source": [
    "def avg(score):\n",
    "    return sum(score) / len(score)\n",
    "\n",
    "for name, score in scoreset:\n",
    "    print('{}:\\t{}'.format(name, avg(score)))\n",
    "print('')"
   ]
  },
  {
   "cell_type": "code",
   "execution_count": 6,
   "metadata": {
    "collapsed": false,
    "scrolled": true
   },
   "outputs": [
    {
     "name": "stdout",
     "output_type": "stream",
     "text": [
      "HdM Testset with Base:\n",
      "correct classifications: \t89\n",
      "Number of Testcases:     \t91\n",
      "\n",
      "Non-HdM Testset with Base:\n",
      "correct classifications: \t86\n",
      "Number of Testcases:     \t89\n",
      "\n"
     ]
    }
   ],
   "source": [
    "def higher(set1, set2):\n",
    "    return [set1[i] > set2[i] for i in range(len(set1))]\n",
    "print('HdM Testset with Base:')\n",
    "print('correct classifications: \\t{}'.format(sum(higher(scoreset[0][1], scoreset[2][1]))))\n",
    "print('Number of Testcases:     \\t{}'.format(len(list(hdmvalidator))))\n",
    "print('')\n",
    "print('Non-HdM Testset with Base:')\n",
    "print('correct classifications: \\t{}'.format(sum(higher(scoreset[3][1], scoreset[1][1]))))\n",
    "print('Number of Testcases:     \\t{}'.format(len(list(nonhdmvalidator))))\n",
    "print('')"
   ]
  },
  {
   "cell_type": "code",
   "execution_count": null,
   "metadata": {
    "collapsed": true
   },
   "outputs": [],
   "source": []
  }
 ],
 "metadata": {
  "kernelspec": {
   "display_name": "Python 2",
   "language": "python",
   "name": "python2"
  },
  "language_info": {
   "codemirror_mode": {
    "name": "ipython",
    "version": 2
   },
   "file_extension": ".py",
   "mimetype": "text/x-python",
   "name": "python",
   "nbconvert_exporter": "python",
   "pygments_lexer": "ipython2",
   "version": "2.7.10"
  }
 },
 "nbformat": 4,
 "nbformat_minor": 1
}
